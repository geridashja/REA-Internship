{
 "cells": [
  {
   "cell_type": "code",
   "execution_count": 12,
   "metadata": {
    "scrolled": true
   },
   "outputs": [],
   "source": [
    "from selenium import webdriver\n",
    "from selenium.webdriver.common.keys import Keys\n",
    "import chromedriver_autoinstaller #used to auto-install chromedriver if current version of chrome is different\n",
    "import time\n",
    "from selenium.webdriver.support.ui import WebDriverWait\n",
    "from selenium.webdriver.support import expected_conditions as EC\n",
    "from selenium.webdriver.common.by import By\n",
    "import pprint\n",
    "from bs4 import BeautifulSoup\n",
    "import re\n",
    "\n",
    "chromedriver_autoinstaller.install()  \n",
    "driver = webdriver.Chrome()\n",
    "url = \"https://twitter.com/explore\"\n",
    "driver.get(url)\n",
    "# #click signin \n",
    "# time.sleep(2)\n",
    "# sig_but = driver.find_element_by_xpath('//*[@id=\"react-root\"]/div/div/div[2]/main/div/div/div[1]/div[1]/div/div[3]/div[5]/a')\n",
    "# time.sleep(1)\n",
    "# sig_but.click()\n",
    "\n",
    "# #sigin\n",
    "# time.sleep(1)\n",
    "# username = driver.find_element_by_xpath('//input[@name=\"text\"]')\n",
    "# time.sleep(1)\n",
    "# username.send_keys('RAtestuser')\n",
    "# time.sleep(1)\n",
    "# username.send_keys(Keys.RETURN)\n",
    "\n",
    "# #password \n",
    "# time.sleep(3)\n",
    "# password = driver.find_element_by_xpath('//input[@name=\"password\"]')\n",
    "# time.sleep(1)\n",
    "# password.send_keys('Reatest1.')\n",
    "# time.sleep(1)\n",
    "# password.send_keys(Keys.RETURN)\n",
    "\n",
    "#write in search\n",
    "time.sleep(1)\n",
    "input_search = driver.find_element_by_xpath('//*[@id=\"react-root\"]/div/div/div[2]/main/div/div/div/div/div/div[1]/div[1]/div/div/div/div/div[1]/div[2]/div/div/div/form/div[1]/div/div/label/div[2]/div/input')\n",
    "input_search.send_keys(\"request for startup\")\n",
    "input_search.send_keys(Keys.ENTER)\n",
    "time.sleep(2)\n",
    "\n",
    "#latest \n",
    "driver.find_element_by_xpath('//*[@id=\"react-root\"]/div/div/div[2]/main/div/div/div/div/div/div[1]/div[2]/nav/div/div[2]/div/div[2]/a').click()\n"
   ]
  },
  {
   "cell_type": "code",
   "execution_count": 18,
   "metadata": {},
   "outputs": [],
   "source": [
    "tweets = driver.find_elements_by_xpath('//article[@data-testid=\"tweet\"]')"
   ]
  },
  {
   "cell_type": "code",
   "execution_count": 19,
   "metadata": {
    "scrolled": true
   },
   "outputs": [],
   "source": [
    "tweet = tweets[0]"
   ]
  },
  {
   "cell_type": "code",
   "execution_count": 20,
   "metadata": {
    "scrolled": true
   },
   "outputs": [
    {
     "name": "stdout",
     "output_type": "stream",
     "text": [
      "Paul O'Brien\n",
      "@seobrien\n",
      "·\n",
      "10h\n",
      "Project for Hire Board? Upwork-like I suppose but more sophisticated and not based on skills. An RFP (request for proposal) board for startups.\n",
      "\n",
      "Post the project, details, and get offers to get it done.\n",
      "\n",
      " \n",
      "@heyalexfriedman\n",
      "  seems like something you might know. Maybe \n",
      "@FounderGigs_\n",
      "1\n"
     ]
    }
   ],
   "source": [
    "print(tweet.text)"
   ]
  },
  {
   "cell_type": "code",
   "execution_count": null,
   "metadata": {},
   "outputs": [],
   "source": []
  },
  {
   "cell_type": "code",
   "execution_count": null,
   "metadata": {},
   "outputs": [],
   "source": []
  },
  {
   "cell_type": "code",
   "execution_count": null,
   "metadata": {},
   "outputs": [],
   "source": []
  },
  {
   "cell_type": "code",
   "execution_count": null,
   "metadata": {
    "scrolled": true
   },
   "outputs": [],
   "source": []
  },
  {
   "cell_type": "code",
   "execution_count": 292,
   "metadata": {},
   "outputs": [],
   "source": []
  },
  {
   "cell_type": "code",
   "execution_count": null,
   "metadata": {},
   "outputs": [],
   "source": []
  },
  {
   "cell_type": "code",
   "execution_count": null,
   "metadata": {},
   "outputs": [],
   "source": []
  }
 ],
 "metadata": {
  "kernelspec": {
   "display_name": "Python 3",
   "language": "python",
   "name": "python3"
  },
  "language_info": {
   "codemirror_mode": {
    "name": "ipython",
    "version": 3
   },
   "file_extension": ".py",
   "mimetype": "text/x-python",
   "name": "python",
   "nbconvert_exporter": "python",
   "pygments_lexer": "ipython3",
   "version": "3.9.1"
  }
 },
 "nbformat": 4,
 "nbformat_minor": 4
}
