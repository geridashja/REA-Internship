{
 "cells": [
  {
   "cell_type": "code",
   "execution_count": 5,
   "metadata": {},
   "outputs": [],
   "source": [
    "from selenium import webdriver\n",
    "from selenium.webdriver.common.keys import Keys\n",
    "import chromedriver_autoinstaller #used to auto-install chromedriver if current version of chrome is different\n",
    "import time\n",
    "\n",
    "chromedriver_autoinstaller.install()  \n",
    "\n",
    "driver = webdriver.Chrome()\n",
    "driver.get(\"https://twitter.com/login\")"
   ]
  },
  {
   "cell_type": "code",
   "execution_count": null,
   "metadata": {},
   "outputs": [],
   "source": [
    "def login_twitter():\n",
    "    # find the element where we have to \n",
    "    # enter the xpath\n",
    "    # fill the number or mail\n",
    "    driver.find_element_by_xpath('//*[@id =\"react-root\"]/div/div/div[2]/main/div/div/div[1]/form/div/div[1]/label/div/div[2]/div/input').send_keys('jonildaaaa')\n",
    "\n",
    "    # find the element where we have to \n",
    "    # enter the xpath\n",
    "    # fill the password\n",
    "    driver.find_element_by_xpath('//*[@id =\"react-root\"]/div/div/div[2]/main/div/div/div[1]/form/div/div[2]/label/div/div[2]/div/input').send_keys('')\n",
    "\n",
    "    # find the element log in \n",
    "    # request using xpath \n",
    "    # clicking on that element \n",
    "    driver.find_element_by_xpath('//*[@id =\"react-root\"]/div/div/div[2]/main/div/div/div[1]/form/div/div[3]/div/div').click()"
   ]
  }
 ],
 "metadata": {
  "kernelspec": {
   "display_name": "Python 3",
   "language": "python",
   "name": "python3"
  },
  "language_info": {
   "codemirror_mode": {
    "name": "ipython",
    "version": 3
   },
   "file_extension": ".py",
   "mimetype": "text/x-python",
   "name": "python",
   "nbconvert_exporter": "python",
   "pygments_lexer": "ipython3",
   "version": "3.9.1"
  }
 },
 "nbformat": 4,
 "nbformat_minor": 4
}
