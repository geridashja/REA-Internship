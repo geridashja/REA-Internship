{
 "cells": [
  {
   "cell_type": "code",
   "execution_count": 54,
   "metadata": {
    "scrolled": true
   },
   "outputs": [],
   "source": [
    "from selenium import webdriver\n",
    "from selenium.webdriver.common.keys import Keys\n",
    "import chromedriver_autoinstaller #used to auto-install chromedriver if current version of chrome is different\n",
    "import time\n",
    "from selenium.webdriver.support.ui import WebDriverWait\n",
    "from selenium.webdriver.support import expected_conditions as EC\n",
    "from selenium.webdriver.common.by import By\n",
    "import pprint\n",
    "from bs4 import BeautifulSoup\n",
    "import re\n",
    "\n",
    "chromedriver_autoinstaller.install()  \n",
    "driver = webdriver.Chrome()\n",
    "url = \"https://twitter.com/explore\"\n",
    "driver.get(url)\n",
    "\n",
    "\"\"\"I COULD USE A REAL TWITTER ACCOUNT JUST FOR TEST BUT DUE TO A LOT OF TESTS IN ORDER TO FILTER THE DATA CORRECTLY, \n",
    "SOMETIMES I NEED TO PUT PHONE NUMBER IN ORDER TO VERIFY MY IDENTITY. SO, I DIRECTLY USED EXPLORE PAGE OF TWITTER\"\"\" \n",
    "\n",
    "\n",
    "# time.sleep(2)\n",
    "# sig_but = driver.find_element_by_xpath('//*[@id=\"react-root\"]/div/div/div[2]/main/div/div/div[1]/div[1]/div/div[3]/div[5]/a')\n",
    "# time.sleep(1)\n",
    "# sig_but.click()\n",
    "\n",
    "# time.sleep(1)\n",
    "# username = driver.find_element_by_xpath('//input[@name=\"text\"]')\n",
    "# time.sleep(1)\n",
    "# username.send_keys('RAtestuser')\n",
    "# time.sleep(1)\n",
    "# username.send_keys(Keys.RETURN)\n",
    "\n",
    "# time.sleep(3)\n",
    "# password = driver.find_element_by_xpath('//input[@name=\"password\"]')\n",
    "# time.sleep(1)\n",
    "# password.send_keys('Reatest1.')\n",
    "# time.sleep(1)\n",
    "# password.send_keys(Keys.RETURN)\n",
    "\n",
    "#write in search\n",
    "time.sleep(1)\n",
    "input_search = driver.find_element_by_xpath('//*[@id=\"react-root\"]/div/div/div[2]/main/div/div/div/div/div/div[1]/div[1]/div/div/div/div/div[1]/div[2]/div/div/div/form/div[1]/div/div/label/div[2]/div/input')\n",
    "input_search.send_keys(\"request for startup\")\n",
    "input_search.send_keys(Keys.ENTER)\n",
    "time.sleep(2)\n",
    "\n",
    "#latest \n",
    "driver.find_element_by_xpath('//*[@id=\"react-root\"]/div/div/div[2]/main/div/div/div/div/div/div[1]/div[2]/nav/div/div[2]/div/div[2]/a').click()\n"
   ]
  },
  {
   "cell_type": "code",
   "execution_count": 55,
   "metadata": {},
   "outputs": [],
   "source": [
    "#tweets = driver.find_elements_by_xpath('//article[@data-testid=\"tweet\"]')"
   ]
  },
  {
   "cell_type": "code",
   "execution_count": 56,
   "metadata": {
    "scrolled": true
   },
   "outputs": [],
   "source": [
    "def get_tweet_data(tweet):\n",
    "    username = tweet.find_element_by_xpath('.//span').text\n",
    "    try:\n",
    "        handle = tweet.find_element_by_xpath('.//span[contains(text(), \"@\")]').text\n",
    "    except NoSuchElementException:\n",
    "        return\n",
    "    try:\n",
    "        postdate = tweet.find_element_by_xpath('.//time').get_attribute('datetime')\n",
    "    except NoSuchElementException:\n",
    "        return\n",
    "    \n",
    "    comment = tweet.find_element_by_xpath('.//div[2]/div[2]/div[1]').text\n",
    "    responding = tweet.find_element_by_xpath('.//div[2]/div[2]/div[2]').text\n",
    "    text = comment + responding\n",
    "    \n",
    "    reply_cnt = tweet.find_element_by_xpath('.//div[@data-testid=\"reply\"]').text\n",
    "    if(reply_cnt == ''):\n",
    "        reply_cnt = 0\n",
    "    retweet_cnt = tweet.find_element_by_xpath('.//div[@data-testid=\"retweet\"]').text\n",
    "    if(retweet_cnt == ''):\n",
    "        retweet_cnt = 0\n",
    "    like_cnt = tweet.find_element_by_xpath('.//div[@data-testid=\"like\"]').text\n",
    "    if(like_cnt == ''):\n",
    "        like_cnt = 0\n",
    "\n",
    "    tweets = (username, handle, postdate, text, like_cnt, retweet_cnt,reply_cnt)\n",
    "    return tweets    "
   ]
  },
  {
   "cell_type": "code",
   "execution_count": 29,
   "metadata": {
    "scrolled": true
   },
   "outputs": [
    {
     "ename": "NameError",
     "evalue": "name 'tweets' is not defined",
     "output_type": "error",
     "traceback": [
      "\u001b[1;31m---------------------------------------------------------------------------\u001b[0m",
      "\u001b[1;31mNameError\u001b[0m                                 Traceback (most recent call last)",
      "\u001b[1;32m<ipython-input-29-6caa851bbbf2>\u001b[0m in \u001b[0;36m<module>\u001b[1;34m\u001b[0m\n\u001b[1;32m----> 1\u001b[1;33m \u001b[1;32mfor\u001b[0m \u001b[0mtweet\u001b[0m \u001b[1;32min\u001b[0m \u001b[0mtweets\u001b[0m\u001b[1;33m:\u001b[0m\u001b[1;33m\u001b[0m\u001b[1;33m\u001b[0m\u001b[0m\n\u001b[0m\u001b[0;32m      2\u001b[0m     \u001b[0mprint\u001b[0m\u001b[1;33m(\u001b[0m\u001b[0mget_tweet_data\u001b[0m\u001b[1;33m(\u001b[0m\u001b[0mtweet\u001b[0m\u001b[1;33m)\u001b[0m\u001b[1;33m)\u001b[0m\u001b[1;33m\u001b[0m\u001b[1;33m\u001b[0m\u001b[0m\n",
      "\u001b[1;31mNameError\u001b[0m: name 'tweets' is not defined"
     ]
    }
   ],
   "source": [
    "for tweet in tweets:\n",
    "    print(get_tweet_data(tweet))"
   ]
  },
  {
   "cell_type": "code",
   "execution_count": 52,
   "metadata": {},
   "outputs": [],
   "source": [
    "\n",
    "# get all tweets on the page\n",
    "data = []\n",
    "tweet_ids = set()\n",
    "last_position = driver.execute_script(\"return window.pageYOffset;\")\n",
    "scrolling = True\n",
    "\n",
    "i = 0\n",
    "#SCRAPED 5 PAGES FOR TESTS\n",
    "#while scrolling:\n",
    "for i in range(5):\n",
    "    page_cards = driver.find_elements_by_xpath('//article[@data-testid=\"tweet\"]')\n",
    "    for card in page_cards[-15:]:\n",
    "        tweet = get_tweet_data(card)\n",
    "        data.append(tweet)\n",
    "            \n",
    "    scroll_attempt = 0\n",
    "    while True:\n",
    "        #check scroll position\n",
    "        driver.execute_script('window.scrollTo(0, document.body.scrollHeight);')\n",
    "        time.sleep(2)\n",
    "        curr_position = driver.execute_script(\"return window.pageYOffset;\")\n",
    "        if last_position == curr_position:\n",
    "            scroll_attempt += 1\n",
    "            \n",
    "            #end of scroll region\n",
    "            if scroll_attempt >= 3:\n",
    "                scrolling = False\n",
    "                break\n",
    "            else:\n",
    "                time.sleep(2) #attempt another scroll\n",
    "        else:\n",
    "            last_position = curr_position\n",
    "            break\n",
    "\n",
    "# close the web driver\n",
    "driver.close()"
   ]
  },
  {
   "cell_type": "code",
   "execution_count": 53,
   "metadata": {},
   "outputs": [
    {
     "name": "stdout",
     "output_type": "stream",
     "text": [
      "[('Wheels Up Collective Marketing Group', '@wheelsupnow', '2022-01-26T14:10:04.000Z', \"Wheels Up Collective Marketing Group\\n@wheelsupnow\\n·\\n3hWhether you're an early stage startup just dipping your toes in marketing or an established enterprise looking for an outside perspective, we'd love to talk shop with you. Request your free marketing strategy assessment. https://buff.ly/3drzb4s  #marketingstrategy #marketingtips\", 0, 0, 0), ('OilX', '@OilXs', '2022-01-26T12:39:31.000Z', 'OilX\\n@OilXs\\n·\\n4hEarlier this week, we published our assessment of Nigeria´s highly anticipated Dangote Oil Refinery Company (DORC) startup for our clients. \\n\\nRequest a copy at research@oilx.co and learn more about OilX Research: https://hubs.li/Q012VYJq0\\n\\n#OOTT #downstream\\n2\\n5', '5', '2', 0), (\"Paul O'Brien\", '@seobrien', '2022-01-25T23:44:44.000Z', \"Paul O'Brien\\n@seobrien\\n·\\n17hProject for Hire Board? Upwork-like I suppose but more sophisticated and not based on skills. An RFP (request for proposal) board for startups.\\n\\nPost the project, details, and get offers to get it done.\\n\\n \\n@heyalexfriedman\\n  seems like something you might know. Maybe \\n@FounderGigs_\\n1\", '1', 0, 0), ('MetaProp', '@MetaPropNYC', '2022-01-25T21:00:53.000Z', 'MetaProp\\n@MetaPropNYC\\n·\\n20h***TOMORROW, January 26, 2022, 6:00 PM EST***\\n\\nThe MetaProp Accelerator at Columbia University is landing in #Miami for the first time ever with our 2021-2022 cohort.\\n\\nRequest tickets here: http://ow.ly/UJc750HthZz\\n\\n#Accelerator #VC #startups #growth\\neventbrite.com\\nMiami PropTech Happy Hour with MetaProp\\nJoin the Miami PropTech community and MetaProp Accelerator at Columbia University for drinks and networking with the 2021-2022 cohort!', 0, 0, 0), (\"Paul O'Brien\", '@seobrien', '2022-01-25T23:44:44.000Z', \"Paul O'Brien\\n@seobrien\\n·\\n17hProject for Hire Board? Upwork-like I suppose but more sophisticated and not based on skills. An RFP (request for proposal) board for startups.\\n\\nPost the project, details, and get offers to get it done.\\n\\n \\n@heyalexfriedman\\n  seems like something you might know. Maybe \\n@FounderGigs_\\n1\", '1', 0, 0), ('MetaProp', '@MetaPropNYC', '2022-01-25T21:00:53.000Z', 'MetaProp\\n@MetaPropNYC\\n·\\n20h***TOMORROW, January 26, 2022, 6:00 PM EST***\\n\\nThe MetaProp Accelerator at Columbia University is landing in #Miami for the first time ever with our 2021-2022 cohort.\\n\\nRequest tickets here: http://ow.ly/UJc750HthZz\\n\\n#Accelerator #VC #startups #growth\\neventbrite.com\\nMiami PropTech Happy Hour with MetaProp\\nJoin the Miami PropTech community and MetaProp Accelerator at Columbia University for drinks and networking with the 2021-2022 cohort!', 0, 0, 0), ('Kumar Saurabh', '@KumarSa70578757', '2022-01-25T20:43:08.000Z', 'Kumar Saurabh\\n@KumarSa70578757\\n·\\n20h@JayGhai\\n request to reconnect for a software startup . we met at Punjab startup program held at ISB Mohali, you asked me to get in touch once i am ready with the prototype. kindly let us know if we can reconnect', 0, 0, 0), ('Nima Kaviani', '@nimak', '2022-01-25T18:50:05.000Z', 'Nima Kaviani\\n@nimak\\n·\\n22hA huge level of respect develops for a startup company that moves really fast, when feature requests from customers come days after feature releases by the said startup.\\n2', '2', 0, 0), ('I Commercial Lending', '@ICommercialLend', '2022-01-25T14:01:22.000Z', 'I Commercial Lending\\n@ICommercialLend\\n·\\nJan 25We fund all types of specialty trucks and construction equipment!\\n\\n No financial statements or tax returns\\n 24-48 hour approval and up to 60 months to pay\\n We can also do startup companies\\n\\nCall (206) 407-8667 for details, or request a free consultation: https://bit.l', 0, 0, 0), ('Rahul Mathur', '@Rahul_J_Mathur', '2022-01-25T13:06:00.000Z', \"Rahul Mathur\\n@Rahul_J_Mathur\\n·\\nJan 25Humble request for Union Budget 2022:\\nPlease streamline the process for foreign inward remittance for Indian startups - lots of filing work with bank branch + RBI\\n\\nForeign capital isn't always evil - FDI supports companies with long R&D cycles & provides good quality local jobs\\n14\\n46\\n329\", '329', '46', '14'), ('Meg Matthees', '@matthees837', '2022-01-25T06:36:23.000Z', 'Meg Matthees\\n@matthees837\\n·\\nJan 25#startup Twitter : I have the bandwidth for one piece of #legal content writing a week. \\n\\nLet me know if there is an IP or startup corporate question you’d benefit from a deeper dive on! \\n\\n(I take requests ) #legalcontent #startuplaw\\n2\\n4', '4', '2', 0), ('Nabuuma Shamim Kaliisa', '@NKaliisa', '2022-01-24T23:41:58.000Z', 'Nabuuma Shamim Kaliisa\\n@NKaliisa\\n·\\nJan 25Replying to \\n@mkainerugaba\\nDear Afande \\n@mkainerugaba\\n , thank you for meeting with president of Rwanda . It my request we in Technology sector that you also help meeting those investors who can bring in venture capital to our startups to help us scale . Uganda has alot good tech startups but lack capital\\n1', 0, '1', 0), ('Berkeley Startup Cluster', '@BerkStartups', '2022-01-24T23:00:07.000Z', 'Berkeley Startup Cluster\\n@BerkStartups\\n·\\nJan 25#Berkeley #startups can still request a waiver for a tax exemption for grant receipts used to support 2021 R&D activities in the #CityofBerkeley. Learn more and download the tax waiver form which will need to accompany your business license renewal form. https://cityofberkeley.info/City_Manager/Economic_Development/R_D_Tax_Waiver.aspx…\\n1\\n1', '1', '1', 0), ('Jason Leow ~ golifelog.com', '@jasonleowsg', '2022-01-24T22:26:43.000Z', 'Jason Leow ~ golifelog.com\\n@jasonleowsg\\n·\\nJan 25Replying to \\n@ZaneDickens\\n and \\n@christinetrac1\\nsomeone gotta go do #ripped30for30 now \\n\\n#requestforstartup #requestforproduct\\n1\\n1', '1', 0, '1'), ('Berkeley Startup Cluster', '@BerkStartups', '2022-01-24T19:05:57.000Z', 'Berkeley Startup Cluster\\n@BerkStartups\\n·\\nJan 24If you are a #Berkeley #startup that received a government R&D grant, now is the time to request a waiver for a #CityofBerkeley tax exemption for grant funding used to support R&D activities in 2021. Submit your waiver by 1/31. https://cityofberkeley.info/City_Manager/Economic_Development/R_D_Tax_Waiver.aspx…\\n1', 0, '1', 0), ('Atlanta Tech Angels', '@Angel_Atlanta', '2022-01-24T16:23:16.000Z', 'Atlanta Tech Angels\\n@Angel_Atlanta\\n·\\nJan 24JOIN US TOMORROW: https://eventbrite.com/e/226340008057\\nAccredited investor wanting to learn more about investing in startups in the Atl tech community, request an invite to our next meeting for first-timers, Code: FIRSTTIMEGUEST \\n#ATLSTARTUPS #venturecapital #entrepeneurship #angelinvestors', 0, 0, 0), ('Berkeley Startup Cluster', '@BerkStartups', '2022-01-24T23:00:07.000Z', 'Berkeley Startup Cluster\\n@BerkStartups\\n·\\nJan 25#Berkeley #startups can still request a waiver for a tax exemption for grant receipts used to support 2021 R&D activities in the #CityofBerkeley. Learn more and download the tax waiver form which will need to accompany your business license renewal form. https://cityofberkeley.info/City_Manager/Economic_Development/R_D_Tax_Waiver.aspx…\\n1\\n1', '1', '1', 0), ('Jason Leow ~ golifelog.com', '@jasonleowsg', '2022-01-24T22:26:43.000Z', 'Jason Leow ~ golifelog.com\\n@jasonleowsg\\n·\\nJan 25Replying to \\n@ZaneDickens\\n and \\n@christinetrac1\\nsomeone gotta go do #ripped30for30 now \\n\\n#requestforstartup #requestforproduct\\n1\\n1', '1', 0, '1'), ('Berkeley Startup Cluster', '@BerkStartups', '2022-01-24T19:05:57.000Z', 'Berkeley Startup Cluster\\n@BerkStartups\\n·\\nJan 24If you are a #Berkeley #startup that received a government R&D grant, now is the time to request a waiver for a #CityofBerkeley tax exemption for grant funding used to support R&D activities in 2021. Submit your waiver by 1/31. https://cityofberkeley.info/City_Manager/Economic_Development/R_D_Tax_Waiver.aspx…\\n1', 0, '1', 0), ('Atlanta Tech Angels', '@Angel_Atlanta', '2022-01-24T16:23:16.000Z', 'Atlanta Tech Angels\\n@Angel_Atlanta\\n·\\nJan 24JOIN US TOMORROW: https://eventbrite.com/e/226340008057\\nAccredited investor wanting to learn more about investing in startups in the Atl tech community, request an invite to our next meeting for first-timers, Code: FIRSTTIMEGUEST \\n#ATLSTARTUPS #venturecapital #entrepeneurship #angelinvestors', 0, 0, 0), ('/dev/in', '@hailpixel', '2022-01-24T14:25:11.000Z', \"/dev/in\\n@hailpixel\\n·\\nJan 24I've had a few requests to see the dashboard I use to manage my startup portfolio (both for \\n@seedcamp\\n and my angel investments), so here's the template!\\nhailpixel.notion.site\\nStartup Portfolio Template\\nCopy Portfolio\\n2\\n7\", '7', 0, '2'), ('CED', '@CEDNC', '2022-01-24T14:02:43.000Z', \"CED\\n@CEDNC\\n·\\nJan 24We're continuing our Startup Founder Networking Series - designed as closed #networking sessions for high-growth Startup Founders and CEOs in the Triangle. If you're a founder or CEO running a high-growth #startup, request your invite here:\\ndocs.google.com\\nCED Startup Founder Networking Series\\nCED's closed networking sessions are designed for high growth Startup Founders and CEOs in the Triangle. We have made this an invite-only event, in order to preserve the conversation quality amongst...\\n3\\n5\", '5', '3', 0), ('StartUp Croydon', '@StartUpCroydon', '2022-01-24T09:00:10.000Z', 'StartUp Croydon\\n@StartUpCroydon\\n·\\nJan 24Join us for today’s online Winter Warmers for 1 hour of interaction with friendly conversation with StartUp alumni’s during a well-deserved break after working hard to build your unique business.\\n\\nSTARTING 1-2PM\\nEMAIL: info@startupcroydon.co.uk to request for the Zoom link.\\n1\\n8', '8', '1', 0), ('Karim tabbara', '@IceKarimTab', '2022-01-24T08:06:32.000Z', \"Karim tabbara\\n@IceKarimTab\\n·\\nJan 24Hello\\nDon't know if it's the correct place to report a problem in Google Agenda for Thunderbird.\\nPlease let me know where to do if not.\\nI can no longer use the plug-in, because of google login request at Thunderbird startup.\\nAs I log in (after security confirmation on my phone),\", 0, 0, 0), ('/dev/in', '@hailpixel', '2022-01-24T14:25:11.000Z', \"/dev/in\\n@hailpixel\\n·\\nJan 24I've had a few requests to see the dashboard I use to manage my startup portfolio (both for \\n@seedcamp\\n and my angel investments), so here's the template!\\nhailpixel.notion.site\\nStartup Portfolio Template\\nCopy Portfolio\\n2\\n7\", '7', 0, '2'), ('CED', '@CEDNC', '2022-01-24T14:02:43.000Z', \"CED\\n@CEDNC\\n·\\nJan 24We're continuing our Startup Founder Networking Series - designed as closed #networking sessions for high-growth Startup Founders and CEOs in the Triangle. If you're a founder or CEO running a high-growth #startup, request your invite here:\\ndocs.google.com\\nCED Startup Founder Networking Series\\nCED's closed networking sessions are designed for high growth Startup Founders and CEOs in the Triangle. We have made this an invite-only event, in order to preserve the conversation quality amongst...\\n3\\n5\", '5', '3', 0), ('StartUp Croydon', '@StartUpCroydon', '2022-01-24T09:00:10.000Z', 'StartUp Croydon\\n@StartUpCroydon\\n·\\nJan 24Join us for today’s online Winter Warmers for 1 hour of interaction with friendly conversation with StartUp alumni’s during a well-deserved break after working hard to build your unique business.\\n\\nSTARTING 1-2PM\\nEMAIL: info@startupcroydon.co.uk to request for the Zoom link.\\n1\\n8', '8', '1', 0), ('Karim tabbara', '@IceKarimTab', '2022-01-24T08:06:32.000Z', \"Karim tabbara\\n@IceKarimTab\\n·\\nJan 24Hello\\nDon't know if it's the correct place to report a problem in Google Agenda for Thunderbird.\\nPlease let me know where to do if not.\\nI can no longer use the plug-in, because of google login request at Thunderbird startup.\\nAs I log in (after security confirmation on my phone),\", 0, 0, 0), ('Er. Sandeep Pattnaik', '@sandeep_patt', '2022-01-24T06:05:43.000Z', 'Er. Sandeep Pattnaik\\n@sandeep_patt\\n·\\nJan 24I have applied for I startup Current Account but it’s been 15Days but no response \\n@ICICIBank\\n @ICICIBank_Care\\n . Disappointed with Service Request No 344-00257851. Very Bad Experience #dissappointment\\n3', 0, 0, '3'), ('Varun Rekhi', '@RekhiVarun', '2022-01-24T00:29:01.000Z', 'Varun Rekhi\\n@RekhiVarun\\n·\\nJan 24After spending a month in India and immersing myself deeper into the startup ecosystem, I would request \\n@narendramodi\\n to consider a new scheme for startups titled \"Funding Uthao, CAC Girao Yojana\". Indian companies are defining the decade \\n\\n#StartUps4NewIndia #startupindia\\n2\\n2', '2', '2', 0), ('Jérôme Petazzoni', '@jpetazzo', '2022-01-23T07:16:03.000Z', \"Jérôme Petazzoni\\n@jpetazzo\\n·\\nJan 23Replying to \\n@b0rk\\nI'm not aware of anything optimized for this (reading in the thread that you want one container per request); so it might be worth writing custom code... Personally I'd start by benchmarking startup times with runc and seeing what needs to be shaven down!\\n2\\n6\", '6', 0, '2'), ('Rauno Metsa', '@raunometsa', '2022-01-22T16:43:04.000Z', 'Rauno Metsa\\n@raunometsa\\n·\\nJan 221. list your startup\\n2. integrate Stripe for MRR\\n3. investors can request access\\n4. founder decides if to share or not\\n\\nFree for founders. $299 per year for investors. Exactly like \\n@microacquire\\n but instead of selling you can get funded.\\n1\\n2', '2', 0, '1'), ('sagar choudhary', '@sagar_bhattal', '2022-01-22T16:31:00.000Z', 'sagar choudhary\\n@sagar_bhattal\\n·\\nJan 22Respected \\n@imVkohli\\n sir\\nSir i have an startup idea but I don’t have funds can you fund my startup.\\nPlease sir i request you i have been asking many people for funds but.. and i’m loosing hope in my self.\\nSir I’m also from a small family and i also want to build myself\\n1', '1', 0, 0), ('sagar choudhary', '@sagar_bhattal', '2022-01-22T16:06:48.000Z', 'sagar choudhary\\n@sagar_bhattal\\n·\\nJan 22Respected \\n@SonuSood\\n sir\\nSir i have an startup idea but I don’t have funds can you fund my startup.\\nPlease sir i request you i have been asking many people for funds but.. and i’m loosing hope in my self.\\nSir I’m also from a small family and i also want to build myself.\\n1', '1', 0, 0), ('sagar choudhary', '@sagar_bhattal', '2022-01-22T16:03:33.000Z', 'sagar choudhary\\n@sagar_bhattal\\n·\\nJan 22Respected \\n@WhoSunilGrover\\n sir\\nSir i have an startup idea but I don’t have funds can you fund my startup.\\nPlease sir i request you i have been asking many people for funds but.. and i’m loosing hope in my self.\\nSir I’m also from a small family and i also want to build myself.\\n1', '1', 0, 0), ('Karim tabbara', '@IceKarimTab', '2022-01-24T08:06:32.000Z', \"Karim tabbara\\n@IceKarimTab\\n·\\nJan 24Hello\\nDon't know if it's the correct place to report a problem in Google Agenda for Thunderbird.\\nPlease let me know where to do if not.\\nI can no longer use the plug-in, because of google login request at Thunderbird startup.\\nAs I log in (after security confirmation on my phone),\", 0, 0, 0), ('Er. Sandeep Pattnaik', '@sandeep_patt', '2022-01-24T06:05:43.000Z', 'Er. Sandeep Pattnaik\\n@sandeep_patt\\n·\\nJan 24I have applied for I startup Current Account but it’s been 15Days but no response \\n@ICICIBank\\n @ICICIBank_Care\\n . Disappointed with Service Request No 344-00257851. Very Bad Experience #dissappointment\\n3', 0, 0, '3'), ('Varun Rekhi', '@RekhiVarun', '2022-01-24T00:29:01.000Z', 'Varun Rekhi\\n@RekhiVarun\\n·\\nJan 24After spending a month in India and immersing myself deeper into the startup ecosystem, I would request \\n@narendramodi\\n to consider a new scheme for startups titled \"Funding Uthao, CAC Girao Yojana\". Indian companies are defining the decade \\n\\n#StartUps4NewIndia #startupindia\\n2\\n2', '2', '2', 0), ('Jérôme Petazzoni', '@jpetazzo', '2022-01-23T07:16:03.000Z', \"Jérôme Petazzoni\\n@jpetazzo\\n·\\nJan 23Replying to \\n@b0rk\\nI'm not aware of anything optimized for this (reading in the thread that you want one container per request); so it might be worth writing custom code... Personally I'd start by benchmarking startup times with runc and seeing what needs to be shaven down!\\n2\\n6\", '6', 0, '2'), ('Rauno Metsa', '@raunometsa', '2022-01-22T16:43:04.000Z', 'Rauno Metsa\\n@raunometsa\\n·\\nJan 221. list your startup\\n2. integrate Stripe for MRR\\n3. investors can request access\\n4. founder decides if to share or not\\n\\nFree for founders. $299 per year for investors. Exactly like \\n@microacquire\\n but instead of selling you can get funded.\\n1\\n2', '2', 0, '1'), ('sagar choudhary', '@sagar_bhattal', '2022-01-22T16:31:00.000Z', 'sagar choudhary\\n@sagar_bhattal\\n·\\nJan 22Respected \\n@imVkohli\\n sir\\nSir i have an startup idea but I don’t have funds can you fund my startup.\\nPlease sir i request you i have been asking many people for funds but.. and i’m loosing hope in my self.\\nSir I’m also from a small family and i also want to build myself\\n1', '1', 0, 0), ('sagar choudhary', '@sagar_bhattal', '2022-01-22T16:06:48.000Z', 'sagar choudhary\\n@sagar_bhattal\\n·\\nJan 22Respected \\n@SonuSood\\n sir\\nSir i have an startup idea but I don’t have funds can you fund my startup.\\nPlease sir i request you i have been asking many people for funds but.. and i’m loosing hope in my self.\\nSir I’m also from a small family and i also want to build myself.\\n1', '1', 0, 0), ('sagar choudhary', '@sagar_bhattal', '2022-01-22T16:03:33.000Z', 'sagar choudhary\\n@sagar_bhattal\\n·\\nJan 22Respected \\n@WhoSunilGrover\\n sir\\nSir i have an startup idea but I don’t have funds can you fund my startup.\\nPlease sir i request you i have been asking many people for funds but.. and i’m loosing hope in my self.\\nSir I’m also from a small family and i also want to build myself.\\n1', '1', 0, 0), ('sagar choudhary', '@sagar_bhattal', '2022-01-22T16:02:33.000Z', 'sagar choudhary\\n@sagar_bhattal\\n·\\nJan 22Respected \\n@KapilSharmaK9\\n sir\\nSir i have an startup idea but I don’t have funds can you fund my startup.\\nPlease sir i request you i have been asking many people for funds but.. and i’m loosing hope in my self.\\nSir I’m also from a small family and i also want to build myself.\\n1', '1', 0, 0), ('VentuRank BETA', '@VentuRankVC', '2022-01-22T14:26:01.000Z', 'VentuRank BETA\\n@VentuRankVC\\n·\\nJan 22Colorado Startup Summer 2021 – Request for Companies #VentureCapital #VC #VentureCapitalist\\nfeld.com\\nColorado Startup Summer 2021 - Request for Companies - Brad Feld\\nCU’s Silicon Flatirons Center Startup Summer is back! Startup Summer provides a fantastic experience for college-age students and interns interested in entrepreneurship and the Front Range emerging...\\n1', '1', 0, 0), ('Zarela', '@ZarelaNet', '2022-01-22T14:13:23.000Z', 'Zarela\\n@ZarelaNet\\n·\\nJan 22Second request for bio-data collection just submitted on Zarela: The study aims to make a better life in the old ages. To participate and get rewarded follow the link below: https://app.zarela.io\\n#neuroscience #zarela #brain #startup #eeg #alzheimer\\n2\\n12\\n14', '14', '12', '2'), ('sagar choudhary', '@sagar_bhattal', '2022-01-22T08:42:55.000Z', 'sagar choudhary\\n@sagar_bhattal\\n·\\nJan 22Respected \\n@BeingSalmanKhan\\n sir\\nSir i have an startup idea but I don’t have funds can you fund my startup.\\nPlease sir i request you i have been asking many people for funds but.. and i’m loosing hope in my self.', 0, 0, 0), ('sagar choudhary', '@sagar_bhattal', '2022-01-22T07:54:43.000Z', 'sagar choudhary\\n@sagar_bhattal\\n·\\nJan 22Respected \\n@gautam_adani\\n sir\\nSir i have an startup idea but I don’t have funds can you fund my startup.\\nPlease sir i request you i have been asking many people for funds but…. and i’m loosing hope in my self.\\n@AdaniOnline', 0, 0, 0), ('Gurpreet Phull', '@gpsphull', '2022-01-22T07:35:20.000Z', 'Gurpreet Phull\\n@gpsphull\\n·\\nJan 22I am collating \"list of people/companies/shops/startups who offer Bicycles on rent in various cities\"  in India. I have got contacts for Lucknow, Gurgaon. Request all enthusiasts if we can get such info. for our respective towns/cities.  The idea is to make the info available 1/n\\n1\\n2', 0, '2', '1'), ('keerthik', '@qedkorc', '2022-01-21T23:49:35.000Z', 'keerthik\\n@qedkorc\\n·\\nJan 22Replying to \\n@_nyanbun_\\ni want to live in a world where employees can request references for their eventual manager up to 2 levels higher than them (and/or the CEO + C*O of a startup < 50 ppl) and any timeline for accepting an offer can only be enforced after said references are received\\n1', '1', 0, 0)]\n",
      "50\n"
     ]
    }
   ],
   "source": [
    "print(data)\n",
    "print(len(data))"
   ]
  },
  {
   "cell_type": "code",
   "execution_count": 19,
   "metadata": {},
   "outputs": [],
   "source": [
    "#saving to csv\n",
    "import csv\n",
    "with open('tweets.csv', 'w', newline='', encoding='utf-8') as f:\n",
    "    header = ['Author', 'Handle of Author', 'Date', 'Tweet', 'Likes', 'Retweets', 'Discussions']\n",
    "    writer = csv.writer(f)\n",
    "    writer.writerow(header)\n",
    "    writer.writerows(data)"
   ]
  },
  {
   "cell_type": "code",
   "execution_count": null,
   "metadata": {
    "scrolled": true
   },
   "outputs": [],
   "source": []
  },
  {
   "cell_type": "code",
   "execution_count": 292,
   "metadata": {},
   "outputs": [],
   "source": []
  },
  {
   "cell_type": "code",
   "execution_count": null,
   "metadata": {},
   "outputs": [],
   "source": []
  },
  {
   "cell_type": "code",
   "execution_count": null,
   "metadata": {},
   "outputs": [],
   "source": []
  }
 ],
 "metadata": {
  "kernelspec": {
   "display_name": "Python 3",
   "language": "python",
   "name": "python3"
  },
  "language_info": {
   "codemirror_mode": {
    "name": "ipython",
    "version": 3
   },
   "file_extension": ".py",
   "mimetype": "text/x-python",
   "name": "python",
   "nbconvert_exporter": "python",
   "pygments_lexer": "ipython3",
   "version": "3.9.1"
  }
 },
 "nbformat": 4,
 "nbformat_minor": 4
}
