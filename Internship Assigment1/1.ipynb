{
 "cells": [
  {
   "cell_type": "code",
   "execution_count": 74,
   "metadata": {
    "scrolled": true
   },
   "outputs": [],
   "source": [
    "from selenium import webdriver\n",
    "from selenium.webdriver.common.keys import Keys\n",
    "import chromedriver_autoinstaller #used to auto-install chromedriver if current version of chrome is different\n",
    "import time\n",
    "from selenium.webdriver.support.ui import WebDriverWait\n",
    "from selenium.webdriver.support import expected_conditions as EC\n",
    "from selenium.webdriver.common.by import By\n",
    "import pprint\n",
    "from bs4 import BeautifulSoup\n",
    "import re\n",
    "\n",
    "chromedriver_autoinstaller.install()  \n",
    "driver = webdriver.Chrome()\n",
    "url = \"https://twitter.com/explore\"\n",
    "driver.get(url)\n",
    "# #click signin \n",
    "# time.sleep(2)\n",
    "# sig_but = driver.find_element_by_xpath('//*[@id=\"react-root\"]/div/div/div[2]/main/div/div/div[1]/div[1]/div/div[3]/div[5]/a')\n",
    "# time.sleep(1)\n",
    "# sig_but.click()\n",
    "\n",
    "# #sigin\n",
    "# time.sleep(1)\n",
    "# username = driver.find_element_by_xpath('//input[@name=\"text\"]')\n",
    "# time.sleep(1)\n",
    "# username.send_keys('RAtestuser')\n",
    "# time.sleep(1)\n",
    "# username.send_keys(Keys.RETURN)\n",
    "\n",
    "# #password \n",
    "# time.sleep(3)\n",
    "# password = driver.find_element_by_xpath('//input[@name=\"password\"]')\n",
    "# time.sleep(1)\n",
    "# password.send_keys('Reatest1.')\n",
    "# time.sleep(1)\n",
    "# password.send_keys(Keys.RETURN)\n",
    "\n",
    "#write in search\n",
    "time.sleep(1)\n",
    "input_search = driver.find_element_by_xpath('//*[@id=\"react-root\"]/div/div/div[2]/main/div/div/div/div/div/div[1]/div[1]/div/div/div/div/div[1]/div[2]/div/div/div/form/div[1]/div/div/label/div[2]/div/input')\n",
    "input_search.send_keys(\"request for startup\")\n",
    "input_search.send_keys(Keys.ENTER)\n",
    "time.sleep(2)\n",
    "\n",
    "#latest \n",
    "driver.find_element_by_xpath('//*[@id=\"react-root\"]/div/div/div[2]/main/div/div/div/div/div/div[1]/div[2]/nav/div/div[2]/div/div[2]/a').click()\n"
   ]
  },
  {
   "cell_type": "code",
   "execution_count": 69,
   "metadata": {},
   "outputs": [],
   "source": [
    "tweets = driver.find_elements_by_xpath('//article[@data-testid=\"tweet\"]')"
   ]
  },
  {
   "cell_type": "code",
   "execution_count": 70,
   "metadata": {
    "scrolled": true
   },
   "outputs": [],
   "source": [
    "def get_tweet_data(tweet):\n",
    "    \"\"\"Extract data from tweet card\"\"\"\n",
    "    username = tweet.find_element_by_xpath('.//span').text\n",
    "    try:\n",
    "        handle = tweet.find_element_by_xpath('.//span[contains(text(), \"@\")]').text\n",
    "    except NoSuchElementException:\n",
    "        return\n",
    "    \n",
    "    try:\n",
    "        postdate = tweet.find_element_by_xpath('.//time').get_attribute('datetime')\n",
    "    except NoSuchElementException:\n",
    "        return\n",
    "    \n",
    "    comment = tweet.find_element_by_xpath('.//div[2]/div[2]/div[1]').text\n",
    "    responding = tweet.find_element_by_xpath('.//div[2]/div[2]/div[2]').text\n",
    "    text = comment + responding\n",
    "    \n",
    "    reply_cnt = tweet.find_element_by_xpath('.//div[@data-testid=\"reply\"]').text\n",
    "    if(reply_cnt == ''):\n",
    "        reply_cnt = 0\n",
    "    retweet_cnt = tweet.find_element_by_xpath('.//div[@data-testid=\"retweet\"]').text\n",
    "    if(retweet_cnt == ''):\n",
    "        retweet_cnt = 0\n",
    "    like_cnt = tweet.find_element_by_xpath('.//div[@data-testid=\"like\"]').text\n",
    "    if(like_cnt == ''):\n",
    "        like_cnt = 0\n",
    "    \n",
    "#     # get a string of all emojis contained in the tweet\n",
    "#     \"\"\"Emojis are stored as images... so I convert the filename, which is stored as unicode, into \n",
    "#     the emoji character.\"\"\"\n",
    "#     emoji_tags = card.find_elements_by_xpath('.//img[contains(@src, \"emoji\")]')\n",
    "#     emoji_list = []\n",
    "#     for tag in emoji_tags:\n",
    "#         filename = tag.get_attribute('src')\n",
    "#         try:\n",
    "#             emoji = chr(int(re.search(r'svg\\/([a-z0-9]+)\\.svg', filename).group(1), base=16))\n",
    "#         except AttributeError:\n",
    "#             continue\n",
    "#         if emoji:\n",
    "#             emoji_list.append(emoji)\n",
    "#     emojis = ' '.join(emoji_list)\n",
    "    \n",
    "    tweets = (username, handle, postdate, text, reply_cnt, retweet_cnt, like_cnt)\n",
    "    return tweets    "
   ]
  },
  {
   "cell_type": "code",
   "execution_count": 71,
   "metadata": {
    "scrolled": true
   },
   "outputs": [
    {
     "name": "stdout",
     "output_type": "stream",
     "text": [
      "('OilX', '@OilXs', '2022-01-26T12:39:31.000Z', 'OilX\\n@OilXs\\n·\\n34mEarlier this week, we published our assessment of Nigeria´s highly anticipated Dangote Oil Refinery Company (DORC) startup for our clients. \\n\\nRequest a copy at research@oilx.co and learn more about OilX Research: https://hubs.li/Q012VYJq0\\n\\n#OOTT #downstream\\n2\\n4', 0, '2', '4')\n",
      "(\"Paul O'Brien\", '@seobrien', '2022-01-25T23:44:44.000Z', \"Paul O'Brien\\n@seobrien\\n·\\n13hProject for Hire Board? Upwork-like I suppose but more sophisticated and not based on skills. An RFP (request for proposal) board for startups.\\n\\nPost the project, details, and get offers to get it done.\\n\\n \\n@heyalexfriedman\\n  seems like something you might know. Maybe \\n@FounderGigs_\\n1\", 0, 0, '1')\n",
      "('MetaProp', '@MetaPropNYC', '2022-01-25T21:00:53.000Z', 'MetaProp\\n@MetaPropNYC\\n·\\n16h***TOMORROW, January 26, 2022, 6:00 PM EST***\\n\\nThe MetaProp Accelerator at Columbia University is landing in #Miami for the first time ever with our 2021-2022 cohort.\\n\\nRequest tickets here: http://ow.ly/UJc750HthZz\\n\\n#Accelerator #VC #startups #growth\\neventbrite.com\\nMiami PropTech Happy Hour with MetaProp\\nJoin the Miami PropTech community and MetaProp Accelerator at Columbia University for drinks and networking with the 2021-2022 cohort!', 0, 0, 0)\n",
      "('Kumar Saurabh', '@KumarSa70578757', '2022-01-25T20:43:08.000Z', 'Kumar Saurabh\\n@KumarSa70578757\\n·\\n16h@JayGhai\\n request to reconnect for a software startup . we met at Punjab startup program held at ISB Mohali, you asked me to get in touch once i am ready with the prototype. kindly let us know if we can reconnect', 0, 0, 0)\n",
      "('Nima Kaviani', '@nimak', '2022-01-25T18:50:05.000Z', 'Nima Kaviani\\n@nimak\\n·\\n18hA huge level of respect develops for a startup company that moves really fast, when feature requests from customers come days after feature releases by the said startup.\\n2', 0, 0, '2')\n"
     ]
    }
   ],
   "source": [
    "for tweet in tweets:\n",
    "    print(get_tweet_data(tweet))"
   ]
  },
  {
   "cell_type": "code",
   "execution_count": 75,
   "metadata": {},
   "outputs": [
    {
     "name": "stdout",
     "output_type": "stream",
     "text": [
      "1\n",
      "2\n",
      "2\n",
      "2\n",
      "2\n",
      "2\n",
      "1\n",
      "2\n",
      "2\n",
      "2\n",
      "2\n",
      "2\n",
      "2\n",
      "2\n",
      "2\n",
      "2\n",
      "2\n",
      "2\n",
      "2\n",
      "1\n",
      "2\n",
      "2\n",
      "2\n",
      "2\n",
      "2\n",
      "2\n",
      "2\n",
      "2\n",
      "1\n",
      "2\n",
      "2\n",
      "2\n",
      "2\n",
      "2\n",
      "2\n",
      "2\n",
      "2\n",
      "2\n",
      "2\n",
      "2\n",
      "1\n",
      "2\n",
      "2\n",
      "2\n",
      "2\n",
      "2\n",
      "2\n",
      "2\n",
      "2\n",
      "2\n",
      "2\n",
      "2\n",
      "2\n",
      "2\n",
      "2\n",
      "2\n"
     ]
    }
   ],
   "source": [
    "\n",
    "# get all tweets on the page\n",
    "data = []\n",
    "tweet_ids = set()\n",
    "last_position = driver.execute_script(\"return window.pageYOffset;\")\n",
    "scrolling = True\n",
    "\n",
    "i = 0\n",
    "#while scrolling:\n",
    "for i in range(5):\n",
    "    page_cards = driver.find_elements_by_xpath('//article[@data-testid=\"tweet\"]')\n",
    "    print(\"1\")\n",
    "    for card in page_cards[-15:]:\n",
    "        print(\"2\")\n",
    "        tweet = get_tweet_data(card)\n",
    "#         if tweet:\n",
    "#             tweet_id = ' '.join(tweet)\n",
    "#             if tweet_id not in tweet_ids:\n",
    "#         tweet_ids.add(tweet_id)\n",
    "        data.append(tweet)\n",
    "            \n",
    "    scroll_attempt = 0\n",
    "    while True:\n",
    "        # check scroll position\n",
    "        driver.execute_script('window.scrollTo(0, document.body.scrollHeight);')\n",
    "        time.sleep(2)\n",
    "        curr_position = driver.execute_script(\"return window.pageYOffset;\")\n",
    "        if last_position == curr_position:\n",
    "            scroll_attempt += 1\n",
    "            \n",
    "            # end of scroll region\n",
    "            if scroll_attempt >= 3:\n",
    "                scrolling = False\n",
    "                break\n",
    "            else:\n",
    "                time.sleep(2) # attempt another scroll\n",
    "        else:\n",
    "            last_position = curr_position\n",
    "            break\n",
    "\n",
    "# close the web driver\n",
    "driver.close()"
   ]
  },
  {
   "cell_type": "code",
   "execution_count": 77,
   "metadata": {},
   "outputs": [
    {
     "name": "stdout",
     "output_type": "stream",
     "text": [
      "51\n"
     ]
    }
   ],
   "source": [
    "print(len(data))"
   ]
  },
  {
   "cell_type": "code",
   "execution_count": null,
   "metadata": {},
   "outputs": [],
   "source": []
  },
  {
   "cell_type": "code",
   "execution_count": null,
   "metadata": {
    "scrolled": true
   },
   "outputs": [],
   "source": []
  },
  {
   "cell_type": "code",
   "execution_count": 292,
   "metadata": {},
   "outputs": [],
   "source": []
  },
  {
   "cell_type": "code",
   "execution_count": null,
   "metadata": {},
   "outputs": [],
   "source": []
  },
  {
   "cell_type": "code",
   "execution_count": null,
   "metadata": {},
   "outputs": [],
   "source": []
  }
 ],
 "metadata": {
  "kernelspec": {
   "display_name": "Python 3",
   "language": "python",
   "name": "python3"
  },
  "language_info": {
   "codemirror_mode": {
    "name": "ipython",
    "version": 3
   },
   "file_extension": ".py",
   "mimetype": "text/x-python",
   "name": "python",
   "nbconvert_exporter": "python",
   "pygments_lexer": "ipython3",
   "version": "3.9.1"
  }
 },
 "nbformat": 4,
 "nbformat_minor": 4
}
